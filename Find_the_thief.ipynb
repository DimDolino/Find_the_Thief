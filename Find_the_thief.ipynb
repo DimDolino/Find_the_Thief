{
 "cells": [
  {
   "cell_type": "markdown",
   "id": "bb3b6657",
   "metadata": {},
   "source": [
    "# Задание 1"
   ]
  },
  {
   "cell_type": "markdown",
   "id": "46d6db5e",
   "metadata": {},
   "source": [
    "Таблица представлена следующими полями:\n",
    "1) key\n",
    "2) id\n",
    "3) phone\n",
    "4) mail\n",
    "\n",
    "Тестовые данные:\n",
    "\n",
    "1;12345;89997776655; test@mail.ru\n",
    "\n",
    "2;54321;87778885566; two@mail.ru\n",
    "\n",
    "3;98765; 87776664577;three@mail\n",
    "\n",
    "4; 66678;87778885566; four@mail.ru\n",
    "\n",
    "5; 34567; 84547895566; four@mail.ru\n",
    "\n",
    "6; 34567; 89087545678; five@mail.ru\n",
    "\n",
    "На основании заданного поля (это может быть id, phone, mail) получить все \"связанные данные\"\n",
    "\n",
    "Например:\n",
    "если задать поиск по условию phone = 87778885566;\n",
    "\n",
    "Результат должен быть следующим:\n",
    "\n",
    "2;54321;87778885566; two@mail.ru\n",
    "\n",
    "4; 66678;87778885566; four@mail.ru\n",
    "\n",
    "5; 34567; 84547895566; four@mail.ru\n",
    "\n",
    "6; 34567; 89087545678; five@mail.ru"
   ]
  },
  {
   "cell_type": "code",
   "execution_count": 25,
   "id": "87504ff3",
   "metadata": {},
   "outputs": [],
   "source": [
    "# Импортируем библиотеку pandas для работы с датафреймами\n",
    "import pandas as pd\n",
    "import warnings\n",
    "warnings.simplefilter(action='ignore', category=FutureWarning)"
   ]
  },
  {
   "cell_type": "markdown",
   "id": "0addc38e",
   "metadata": {},
   "source": [
    "Рассмотрим два варианта:\n",
    "1) датафрейм передается в тело функции и он изменяемый (например, данные из csv, сервера)\n",
    "\n",
    "2) функция с подсказками для пользователя"
   ]
  },
  {
   "cell_type": "markdown",
   "id": "14c241e5",
   "metadata": {},
   "source": [
    "В данном случае задаем датафрейм и передаем в тело функции в качестве входного параметра:"
   ]
  },
  {
   "cell_type": "code",
   "execution_count": 2,
   "id": "c7773c29",
   "metadata": {},
   "outputs": [],
   "source": [
    "date = pd.DataFrame({'id': [12345, 54321, 98765, 66678, 34567, 34567],\n",
    "                     'phone': [89997776655, 87778885566, 87776664577, 87778885566, 84547895566, 89087545678],\n",
    "                     'mail': ['test@mail.ru', 'two@mail.ru', 'three@mail', 'four@mail.ru', 'four@mail.ru', 'five@mail.ru']},\n",
    "                    index = {i for i in range(1, 7)})"
   ]
  },
  {
   "cell_type": "markdown",
   "id": "83928653",
   "metadata": {},
   "source": [
    "Параметры col_name и value соответственно - название колонки и ее значение"
   ]
  },
  {
   "cell_type": "code",
   "execution_count": 7,
   "id": "ba184a60",
   "metadata": {},
   "outputs": [],
   "source": [
    "def find_chain(date, col_name, value):\n",
    "    \"\"\"from date gets all chained data\n",
    "       with input column name for searching and its value\"\"\"\n",
    "#   Получаем датафрейм со строками, которые по первому поиску нашли\n",
    "    clean_df = date.loc[date[col_name] == value]\n",
    "    counter = 1\n",
    "#     счетчик нужен для того, чтобы определить, что совпадений по поиску больше нет\n",
    "    while counter != 0:\n",
    "        counter = 0\n",
    "        array = {}\n",
    "        fl = pd.DataFrame()\n",
    "        new = pd.DataFrame()\n",
    "#        занесем значения из колонок датафрейма в словари,\n",
    "#       где ключами являются названия колонок\n",
    "        for column in clean_df:\n",
    "            array[column] = clean_df[column].unique().tolist()\n",
    "#       также создаем список индексов, уже попавших в датафрейм в первом приближении,\n",
    "#       чтобы не найти их снова\n",
    "        out_index = clean_df.index.values.tolist()\n",
    "#     перебирая для всех ключей словаря значения в словаре, находим строки\n",
    "#     в которых есть совпадения с текущими значениями\n",
    "        for key, value in array.items():\n",
    "            for elem in value:\n",
    "                fl = fl.append(date.loc[date[key] == elem])\n",
    "#     чтобы не добавить в датафрейм копии строк, учтем индексы уже добавленных\n",
    "        for i in fl.index:\n",
    "            if i not in out_index:\n",
    "                new = new.append(fl.loc[[i]])\n",
    "#     в случае, если найдена строка с еще не добавленным индексом, счетчик дает +1, чтобы цикл начался снова\n",
    "#     если новых строк не найдено, то счетчик остается равен 0, цикл while завершается\n",
    "                counter += 1\n",
    "#     пополняем датафрейм\n",
    "        clean_df = clean_df.append(new)\n",
    "    return clean_df"
   ]
  },
  {
   "cell_type": "code",
   "execution_count": 26,
   "id": "342c3da7",
   "metadata": {
    "scrolled": false
   },
   "outputs": [
    {
     "data": {
      "text/html": [
       "<div>\n",
       "<style scoped>\n",
       "    .dataframe tbody tr th:only-of-type {\n",
       "        vertical-align: middle;\n",
       "    }\n",
       "\n",
       "    .dataframe tbody tr th {\n",
       "        vertical-align: top;\n",
       "    }\n",
       "\n",
       "    .dataframe thead th {\n",
       "        text-align: right;\n",
       "    }\n",
       "</style>\n",
       "<table border=\"1\" class=\"dataframe\">\n",
       "  <thead>\n",
       "    <tr style=\"text-align: right;\">\n",
       "      <th></th>\n",
       "      <th>id</th>\n",
       "      <th>phone</th>\n",
       "      <th>mail</th>\n",
       "    </tr>\n",
       "  </thead>\n",
       "  <tbody>\n",
       "    <tr>\n",
       "      <th>2</th>\n",
       "      <td>54321</td>\n",
       "      <td>87778885566</td>\n",
       "      <td>two@mail.ru</td>\n",
       "    </tr>\n",
       "    <tr>\n",
       "      <th>4</th>\n",
       "      <td>66678</td>\n",
       "      <td>87778885566</td>\n",
       "      <td>four@mail.ru</td>\n",
       "    </tr>\n",
       "    <tr>\n",
       "      <th>5</th>\n",
       "      <td>34567</td>\n",
       "      <td>84547895566</td>\n",
       "      <td>four@mail.ru</td>\n",
       "    </tr>\n",
       "    <tr>\n",
       "      <th>6</th>\n",
       "      <td>34567</td>\n",
       "      <td>89087545678</td>\n",
       "      <td>five@mail.ru</td>\n",
       "    </tr>\n",
       "  </tbody>\n",
       "</table>\n",
       "</div>"
      ],
      "text/plain": [
       "      id        phone          mail\n",
       "2  54321  87778885566   two@mail.ru\n",
       "4  66678  87778885566  four@mail.ru\n",
       "5  34567  84547895566  four@mail.ru\n",
       "6  34567  89087545678  five@mail.ru"
      ]
     },
     "execution_count": 26,
     "metadata": {},
     "output_type": "execute_result"
    }
   ],
   "source": [
    "# Как видим, работает\n",
    "find_chain(date, 'phone', 87778885566)"
   ]
  },
  {
   "cell_type": "markdown",
   "id": "725b1416",
   "metadata": {},
   "source": [
    "### Функция ниже для использования с возможностью подсказок пользователю, также работает"
   ]
  },
  {
   "cell_type": "code",
   "execution_count": 28,
   "id": "e6aa25a4",
   "metadata": {},
   "outputs": [],
   "source": [
    "def search(date):\n",
    "    col = str(input('Введите поле для поиска:'))\n",
    "    while col not in date.columns:\n",
    "        print(f'Доступные названия столбцов: {date.columns.values.tolist()}')\n",
    "        col = str(input('Введите название колонки для поиска из доступных:'))     \n",
    "    value = input('Введите значение для фильтрации:')\n",
    "    while value not in [str(i) for i in date[f'{col}'].values]:\n",
    "        print(f'Доступные значения колонок: {set(date[f\"{col}\"])}')\n",
    "        value = input('Введите доступное значение для фильтрации:')\n",
    "# Пока введенный параметр не совпадет с одним из значений в колонке, просим ввести \n",
    "# значение еще раз с подсказкой (перевод в строковый тип для сравнения чисел в таблице\n",
    "# которые представлены в формате int, в функции ниже представлен аналогичный вариант \n",
    "# проверки вхождения элемента, но при сравнении строковых значений с числовыми\n",
    "# возникает конфликт между numpy и pandas)\n",
    "    try:\n",
    "        value = int(value)\n",
    "    except:\n",
    "        value = value\n",
    "    clean_df = date.loc[date[col] == value]\n",
    "    counter = 1\n",
    "    while counter != 0:\n",
    "        counter = 0\n",
    "        array = {}\n",
    "        fl = pd.DataFrame()\n",
    "        new = pd.DataFrame()\n",
    "        for coln in date:\n",
    "            array[coln] = clean_df[coln].unique().tolist()\n",
    "        out_index = clean_df.index.values.tolist()\n",
    "        for key, value in array.items():\n",
    "            for elem in value:\n",
    "                fl = fl.append(date.loc[date[key] == elem])\n",
    "        for i in fl.index:\n",
    "            if i not in out_index:\n",
    "                new = new.append(fl.loc[[i]])\n",
    "                counter += 1\n",
    "        clean_df = clean_df.append(new)\n",
    "    return clean_df"
   ]
  },
  {
   "cell_type": "code",
   "execution_count": 31,
   "id": "a13b5061",
   "metadata": {},
   "outputs": [
    {
     "name": "stdout",
     "output_type": "stream",
     "text": [
      "Введите поле для поиска:id\n",
      "Введите значение для фильтрации:34567\n"
     ]
    },
    {
     "data": {
      "text/html": [
       "<div>\n",
       "<style scoped>\n",
       "    .dataframe tbody tr th:only-of-type {\n",
       "        vertical-align: middle;\n",
       "    }\n",
       "\n",
       "    .dataframe tbody tr th {\n",
       "        vertical-align: top;\n",
       "    }\n",
       "\n",
       "    .dataframe thead th {\n",
       "        text-align: right;\n",
       "    }\n",
       "</style>\n",
       "<table border=\"1\" class=\"dataframe\">\n",
       "  <thead>\n",
       "    <tr style=\"text-align: right;\">\n",
       "      <th></th>\n",
       "      <th>id</th>\n",
       "      <th>phone</th>\n",
       "      <th>mail</th>\n",
       "    </tr>\n",
       "  </thead>\n",
       "  <tbody>\n",
       "    <tr>\n",
       "      <th>5</th>\n",
       "      <td>34567</td>\n",
       "      <td>84547895566</td>\n",
       "      <td>four@mail.ru</td>\n",
       "    </tr>\n",
       "    <tr>\n",
       "      <th>6</th>\n",
       "      <td>34567</td>\n",
       "      <td>89087545678</td>\n",
       "      <td>five@mail.ru</td>\n",
       "    </tr>\n",
       "    <tr>\n",
       "      <th>4</th>\n",
       "      <td>66678</td>\n",
       "      <td>87778885566</td>\n",
       "      <td>four@mail.ru</td>\n",
       "    </tr>\n",
       "    <tr>\n",
       "      <th>2</th>\n",
       "      <td>54321</td>\n",
       "      <td>87778885566</td>\n",
       "      <td>two@mail.ru</td>\n",
       "    </tr>\n",
       "  </tbody>\n",
       "</table>\n",
       "</div>"
      ],
      "text/plain": [
       "      id        phone          mail\n",
       "5  34567  84547895566  four@mail.ru\n",
       "6  34567  89087545678  five@mail.ru\n",
       "4  66678  87778885566  four@mail.ru\n",
       "2  54321  87778885566   two@mail.ru"
      ]
     },
     "execution_count": 31,
     "metadata": {},
     "output_type": "execute_result"
    }
   ],
   "source": [
    "search(date)"
   ]
  },
  {
   "cell_type": "markdown",
   "id": "b15f5ccc",
   "metadata": {},
   "source": [
    "#  Задание 2"
   ]
  },
  {
   "cell_type": "markdown",
   "id": "f843589b",
   "metadata": {},
   "source": [
    "Во вложении файл (данные полностью сгенерированы).\n",
    "По каждому пользователю (столбец ID) посчитать сколько раз были выполнены следующие условия:\n",
    "- был открыт новый договор (столбцы договор и дата начала) в один день с закрытием предыдущего договора (столбец дата завершения (факт))\n",
    "- клиент по данному новому договору воспользовался новой сейфовой ячейкой (столбец сейф), но в том же офисе (столбец офис)"
   ]
  },
  {
   "cell_type": "markdown",
   "id": "75e3effa",
   "metadata": {},
   "source": [
    "Далее используется понятие ключевое действие, которое включает в себя выполнение двух условий, представленных выше, т.е. клиент, совершивший ключевое действие:\n",
    "- открыл новый договор в один день с закрытием предыдущего\n",
    "- по данному новому договору воспользовался новой сейфовой ячейкой в том же офисе"
   ]
  },
  {
   "cell_type": "code",
   "execution_count": 36,
   "id": "032a4087",
   "metadata": {},
   "outputs": [],
   "source": [
    "# получим датафрейм из таблицы в excel и проанализируем колонки \n",
    "df = pd.read_excel('data.xlsx')"
   ]
  },
  {
   "cell_type": "code",
   "execution_count": 37,
   "id": "ccac3842",
   "metadata": {
    "scrolled": true
   },
   "outputs": [
    {
     "data": {
      "text/plain": [
       "Index(['Офис', 'Договор', 'Дата начала', 'Дата завершения (факт)', 'Сейф',\n",
       "       'ID'],\n",
       "      dtype='object')"
      ]
     },
     "execution_count": 37,
     "metadata": {},
     "output_type": "execute_result"
    }
   ],
   "source": [
    "df.columns"
   ]
  },
  {
   "cell_type": "code",
   "execution_count": 38,
   "id": "fa971bad",
   "metadata": {
    "scrolled": true
   },
   "outputs": [
    {
     "data": {
      "text/plain": [
       "Офис                               int64\n",
       "Договор                           object\n",
       "Дата начала               datetime64[ns]\n",
       "Дата завершения (факт)    datetime64[ns]\n",
       "Сейф                               int64\n",
       "ID                                 int64\n",
       "dtype: object"
      ]
     },
     "execution_count": 38,
     "metadata": {},
     "output_type": "execute_result"
    }
   ],
   "source": [
    "df.dtypes"
   ]
  },
  {
   "cell_type": "markdown",
   "id": "43acc40e",
   "metadata": {},
   "source": [
    "Даты представлены в формате datetime, что хорошо для проведения анализа"
   ]
  },
  {
   "cell_type": "code",
   "execution_count": 39,
   "id": "d3054ab4",
   "metadata": {},
   "outputs": [],
   "source": [
    "# Название колонок переименуем для удобства, а также изменим порядок столбцов\n",
    "df = df.rename(columns={'Офис': 'office', 'Договор': 'contract', 'Дата начала': 'start_date', 'Дата завершения (факт)': 'end_date', 'Сейф': 'safe', 'ID': \"client_id\"})\n",
    "df = df.reindex(columns=[\"client_id\", 'contract', 'start_date', 'end_date', 'safe', 'office'])"
   ]
  },
  {
   "cell_type": "markdown",
   "id": "e8cdeb5f",
   "metadata": {},
   "source": [
    "Посмотрим распеределение номеров договора в датафрейме"
   ]
  },
  {
   "cell_type": "code",
   "execution_count": 40,
   "id": "78389934",
   "metadata": {},
   "outputs": [
    {
     "data": {
      "text/plain": [
       "9049-2925-000920599    6\n",
       "9049-9779-000922524    5\n",
       "9049-9779-000924929    5\n",
       "5992-492-000092249     5\n",
       "5992-492-000092222     5\n",
       "                      ..\n",
       "9547-292-000220254     1\n",
       "9547-292-000220445     1\n",
       "9547-292-000222454     1\n",
       "9547-292-000222740     1\n",
       "9070-75-000055429      1\n",
       "Name: contract, Length: 44730, dtype: int64"
      ]
     },
     "execution_count": 40,
     "metadata": {},
     "output_type": "execute_result"
    }
   ],
   "source": [
    "df.contract.value_counts()"
   ]
  },
  {
   "cell_type": "markdown",
   "id": "a0ebc169",
   "metadata": {},
   "source": [
    "Посмотрим, как выглядят строки с одинаковыми номерами договора"
   ]
  },
  {
   "cell_type": "code",
   "execution_count": 41,
   "id": "c7f6eb26",
   "metadata": {},
   "outputs": [
    {
     "data": {
      "text/html": [
       "<div>\n",
       "<style scoped>\n",
       "    .dataframe tbody tr th:only-of-type {\n",
       "        vertical-align: middle;\n",
       "    }\n",
       "\n",
       "    .dataframe tbody tr th {\n",
       "        vertical-align: top;\n",
       "    }\n",
       "\n",
       "    .dataframe thead th {\n",
       "        text-align: right;\n",
       "    }\n",
       "</style>\n",
       "<table border=\"1\" class=\"dataframe\">\n",
       "  <thead>\n",
       "    <tr style=\"text-align: right;\">\n",
       "      <th></th>\n",
       "      <th>client_id</th>\n",
       "      <th>contract</th>\n",
       "      <th>start_date</th>\n",
       "      <th>end_date</th>\n",
       "      <th>safe</th>\n",
       "      <th>office</th>\n",
       "    </tr>\n",
       "  </thead>\n",
       "  <tbody>\n",
       "    <tr>\n",
       "      <th>39132</th>\n",
       "      <td>2242464644444477780</td>\n",
       "      <td>9049-9779-000922524</td>\n",
       "      <td>2022-02-28</td>\n",
       "      <td>NaT</td>\n",
       "      <td>885</td>\n",
       "      <td>8888</td>\n",
       "    </tr>\n",
       "    <tr>\n",
       "      <th>39136</th>\n",
       "      <td>2242464644444477780</td>\n",
       "      <td>9049-9779-000922524</td>\n",
       "      <td>2022-02-28</td>\n",
       "      <td>NaT</td>\n",
       "      <td>894</td>\n",
       "      <td>8888</td>\n",
       "    </tr>\n",
       "    <tr>\n",
       "      <th>39157</th>\n",
       "      <td>2242442727904867280</td>\n",
       "      <td>9049-9779-000922524</td>\n",
       "      <td>2022-02-28</td>\n",
       "      <td>NaT</td>\n",
       "      <td>447</td>\n",
       "      <td>8888</td>\n",
       "    </tr>\n",
       "    <tr>\n",
       "      <th>39274</th>\n",
       "      <td>2240277907472897740</td>\n",
       "      <td>9049-9779-000922524</td>\n",
       "      <td>2022-03-01</td>\n",
       "      <td>2022-03-16</td>\n",
       "      <td>531</td>\n",
       "      <td>8888</td>\n",
       "    </tr>\n",
       "    <tr>\n",
       "      <th>39280</th>\n",
       "      <td>2242428420779872449</td>\n",
       "      <td>9049-9779-000922524</td>\n",
       "      <td>2022-03-01</td>\n",
       "      <td>NaT</td>\n",
       "      <td>816</td>\n",
       "      <td>8888</td>\n",
       "    </tr>\n",
       "  </tbody>\n",
       "</table>\n",
       "</div>"
      ],
      "text/plain": [
       "                 client_id             contract start_date   end_date  safe  \\\n",
       "39132  2242464644444477780  9049-9779-000922524 2022-02-28        NaT   885   \n",
       "39136  2242464644444477780  9049-9779-000922524 2022-02-28        NaT   894   \n",
       "39157  2242442727904867280  9049-9779-000922524 2022-02-28        NaT   447   \n",
       "39274  2240277907472897740  9049-9779-000922524 2022-03-01 2022-03-16   531   \n",
       "39280  2242428420779872449  9049-9779-000922524 2022-03-01        NaT   816   \n",
       "\n",
       "       office  \n",
       "39132    8888  \n",
       "39136    8888  \n",
       "39157    8888  \n",
       "39274    8888  \n",
       "39280    8888  "
      ]
     },
     "execution_count": 41,
     "metadata": {},
     "output_type": "execute_result"
    }
   ],
   "source": [
    "df.query('contract == \"9049-9779-000922524\"')"
   ]
  },
  {
   "cell_type": "code",
   "execution_count": 42,
   "id": "81e29499",
   "metadata": {},
   "outputs": [
    {
     "data": {
      "text/html": [
       "<div>\n",
       "<style scoped>\n",
       "    .dataframe tbody tr th:only-of-type {\n",
       "        vertical-align: middle;\n",
       "    }\n",
       "\n",
       "    .dataframe tbody tr th {\n",
       "        vertical-align: top;\n",
       "    }\n",
       "\n",
       "    .dataframe thead th {\n",
       "        text-align: right;\n",
       "    }\n",
       "</style>\n",
       "<table border=\"1\" class=\"dataframe\">\n",
       "  <thead>\n",
       "    <tr style=\"text-align: right;\">\n",
       "      <th></th>\n",
       "      <th>client_id</th>\n",
       "      <th>contract</th>\n",
       "      <th>start_date</th>\n",
       "      <th>end_date</th>\n",
       "      <th>safe</th>\n",
       "      <th>office</th>\n",
       "    </tr>\n",
       "  </thead>\n",
       "  <tbody>\n",
       "    <tr>\n",
       "      <th>35012</th>\n",
       "      <td>2242424467424900449</td>\n",
       "      <td>9049-2925-000920599</td>\n",
       "      <td>2022-02-25</td>\n",
       "      <td>NaT</td>\n",
       "      <td>453</td>\n",
       "      <td>2826</td>\n",
       "    </tr>\n",
       "    <tr>\n",
       "      <th>35015</th>\n",
       "      <td>2242424467424900449</td>\n",
       "      <td>9049-2925-000920599</td>\n",
       "      <td>2022-02-25</td>\n",
       "      <td>NaT</td>\n",
       "      <td>457</td>\n",
       "      <td>2826</td>\n",
       "    </tr>\n",
       "    <tr>\n",
       "      <th>35026</th>\n",
       "      <td>222862424726276444</td>\n",
       "      <td>9049-2925-000920599</td>\n",
       "      <td>2022-02-25</td>\n",
       "      <td>NaT</td>\n",
       "      <td>471</td>\n",
       "      <td>2826</td>\n",
       "    </tr>\n",
       "    <tr>\n",
       "      <th>35027</th>\n",
       "      <td>222862424726276444</td>\n",
       "      <td>9049-2925-000920599</td>\n",
       "      <td>2022-02-25</td>\n",
       "      <td>NaT</td>\n",
       "      <td>473</td>\n",
       "      <td>2826</td>\n",
       "    </tr>\n",
       "    <tr>\n",
       "      <th>35029</th>\n",
       "      <td>2242487288607699269</td>\n",
       "      <td>9049-2925-000920599</td>\n",
       "      <td>2022-02-25</td>\n",
       "      <td>NaT</td>\n",
       "      <td>571</td>\n",
       "      <td>2826</td>\n",
       "    </tr>\n",
       "    <tr>\n",
       "      <th>35030</th>\n",
       "      <td>2242479249807777240</td>\n",
       "      <td>9049-2925-000920599</td>\n",
       "      <td>2022-02-25</td>\n",
       "      <td>NaT</td>\n",
       "      <td>65</td>\n",
       "      <td>2826</td>\n",
       "    </tr>\n",
       "  </tbody>\n",
       "</table>\n",
       "</div>"
      ],
      "text/plain": [
       "                 client_id             contract start_date end_date  safe  \\\n",
       "35012  2242424467424900449  9049-2925-000920599 2022-02-25      NaT   453   \n",
       "35015  2242424467424900449  9049-2925-000920599 2022-02-25      NaT   457   \n",
       "35026   222862424726276444  9049-2925-000920599 2022-02-25      NaT   471   \n",
       "35027   222862424726276444  9049-2925-000920599 2022-02-25      NaT   473   \n",
       "35029  2242487288607699269  9049-2925-000920599 2022-02-25      NaT   571   \n",
       "35030  2242479249807777240  9049-2925-000920599 2022-02-25      NaT    65   \n",
       "\n",
       "       office  \n",
       "35012    2826  \n",
       "35015    2826  \n",
       "35026    2826  \n",
       "35027    2826  \n",
       "35029    2826  \n",
       "35030    2826  "
      ]
     },
     "execution_count": 42,
     "metadata": {},
     "output_type": "execute_result"
    }
   ],
   "source": [
    "df.query('contract == \"9049-2925-000920599\"')"
   ]
  },
  {
   "cell_type": "markdown",
   "id": "79061543",
   "metadata": {},
   "source": [
    "Как видим, строки дублируются при открытии на один договор нескольких сейфов, поэтому исключим их из датафрейма с учетом того, что клиенты с разными id могут заключать договора с одним номером"
   ]
  },
  {
   "cell_type": "code",
   "execution_count": 43,
   "id": "3cff3dc2",
   "metadata": {},
   "outputs": [],
   "source": [
    "contract_dropped_df = df.drop_duplicates(subset=['client_id', 'contract'])"
   ]
  },
  {
   "cell_type": "code",
   "execution_count": 44,
   "id": "6792f5c6",
   "metadata": {},
   "outputs": [],
   "source": [
    "# датафрейм с id клиента с номером договора и началом его действия\n",
    "df_1 = contract_dropped_df[['client_id', 'start_date', 'contract', 'safe', 'office']].rename(columns={'contract': 'new_contract', 'safe': 'new_safe', 'office': 'new_office'})\n",
    "# датафрейм с id клиента, номером договора и временем его закрытием\n",
    "df_2 = contract_dropped_df[['client_id', 'end_date', 'contract', 'safe', 'office']].rename(columns={'contract' : 'ended_contract', 'safe': 'old_safe', 'office': 'old_office'})\n",
    "# Объединяем датафреймы по полям id клиента и времени окончания и начала договоров, а также столбцу офис\n",
    "Full_df = df_2.merge(df_1, how='inner', left_on=['client_id', 'end_date', 'old_office'], right_on=['client_id', 'start_date', 'new_office'])"
   ]
  },
  {
   "cell_type": "code",
   "execution_count": 45,
   "id": "82bb5796",
   "metadata": {
    "scrolled": true
   },
   "outputs": [],
   "source": [
    "# В датафрейм попали договора, которые были закрыты днем начала, уберем их\n",
    "Full_df = Full_df.query('new_contract != ended_contract and old_safe != new_safe')"
   ]
  },
  {
   "cell_type": "code",
   "execution_count": 46,
   "id": "af2b2b1c",
   "metadata": {},
   "outputs": [],
   "source": [
    "# Второе условие требует, чтобы новый договор был заключен с новой сейфовой ячейкой\n",
    "Full_df = Full_df.query('old_safe != new_safe')"
   ]
  },
  {
   "cell_type": "code",
   "execution_count": 47,
   "id": "e9705099",
   "metadata": {
    "scrolled": false
   },
   "outputs": [],
   "source": [
    "# Посчитаем число событий, когда новый договор заключался в день закрытия предыдущего договора\n",
    "Result_df = Full_df.groupby('client_id', as_index=False)\\\n",
    "                   .agg({'new_contract': 'count'})\\\n",
    "                   .rename(columns={'new_contract': 'number_of_actions'})\\\n",
    "                   .sort_values('number_of_actions', ascending=False)\\\n",
    "                   .reset_index(drop=True)"
   ]
  },
  {
   "cell_type": "code",
   "execution_count": 48,
   "id": "54c83d90",
   "metadata": {
    "scrolled": false
   },
   "outputs": [
    {
     "data": {
      "text/html": [
       "<div>\n",
       "<style scoped>\n",
       "    .dataframe tbody tr th:only-of-type {\n",
       "        vertical-align: middle;\n",
       "    }\n",
       "\n",
       "    .dataframe tbody tr th {\n",
       "        vertical-align: top;\n",
       "    }\n",
       "\n",
       "    .dataframe thead th {\n",
       "        text-align: right;\n",
       "    }\n",
       "</style>\n",
       "<table border=\"1\" class=\"dataframe\">\n",
       "  <thead>\n",
       "    <tr style=\"text-align: right;\">\n",
       "      <th></th>\n",
       "      <th>client_id</th>\n",
       "      <th>number_of_actions</th>\n",
       "    </tr>\n",
       "  </thead>\n",
       "  <tbody>\n",
       "    <tr>\n",
       "      <th>0</th>\n",
       "      <td>224247202274274262</td>\n",
       "      <td>52</td>\n",
       "    </tr>\n",
       "    <tr>\n",
       "      <th>1</th>\n",
       "      <td>2240224227944820994</td>\n",
       "      <td>10</td>\n",
       "    </tr>\n",
       "    <tr>\n",
       "      <th>2</th>\n",
       "      <td>2240226498729726664</td>\n",
       "      <td>4</td>\n",
       "    </tr>\n",
       "    <tr>\n",
       "      <th>3</th>\n",
       "      <td>224026268462298777</td>\n",
       "      <td>4</td>\n",
       "    </tr>\n",
       "    <tr>\n",
       "      <th>4</th>\n",
       "      <td>2240272076889247040</td>\n",
       "      <td>3</td>\n",
       "    </tr>\n",
       "    <tr>\n",
       "      <th>...</th>\n",
       "      <td>...</td>\n",
       "      <td>...</td>\n",
       "    </tr>\n",
       "    <tr>\n",
       "      <th>327</th>\n",
       "      <td>2229424707722694060</td>\n",
       "      <td>1</td>\n",
       "    </tr>\n",
       "    <tr>\n",
       "      <th>328</th>\n",
       "      <td>2229424224904777942</td>\n",
       "      <td>1</td>\n",
       "    </tr>\n",
       "    <tr>\n",
       "      <th>329</th>\n",
       "      <td>2229406648448474649</td>\n",
       "      <td>1</td>\n",
       "    </tr>\n",
       "    <tr>\n",
       "      <th>330</th>\n",
       "      <td>2229044486222622494</td>\n",
       "      <td>1</td>\n",
       "    </tr>\n",
       "    <tr>\n",
       "      <th>331</th>\n",
       "      <td>2784427462874478474</td>\n",
       "      <td>1</td>\n",
       "    </tr>\n",
       "  </tbody>\n",
       "</table>\n",
       "<p>332 rows × 2 columns</p>\n",
       "</div>"
      ],
      "text/plain": [
       "               client_id  number_of_actions\n",
       "0     224247202274274262                 52\n",
       "1    2240224227944820994                 10\n",
       "2    2240226498729726664                  4\n",
       "3     224026268462298777                  4\n",
       "4    2240272076889247040                  3\n",
       "..                   ...                ...\n",
       "327  2229424707722694060                  1\n",
       "328  2229424224904777942                  1\n",
       "329  2229406648448474649                  1\n",
       "330  2229044486222622494                  1\n",
       "331  2784427462874478474                  1\n",
       "\n",
       "[332 rows x 2 columns]"
      ]
     },
     "execution_count": 48,
     "metadata": {},
     "output_type": "execute_result"
    }
   ],
   "source": [
    "# Таблица id клиентов с выполненным ключевым действием\n",
    "Result_df"
   ]
  },
  {
   "cell_type": "code",
   "execution_count": 49,
   "id": "4e7de938",
   "metadata": {},
   "outputs": [
    {
     "data": {
      "text/plain": [
       "419"
      ]
     },
     "execution_count": 49,
     "metadata": {},
     "output_type": "execute_result"
    }
   ],
   "source": [
    "# Число ключевых событий\n",
    "Full_df.shape[0]"
   ]
  },
  {
   "cell_type": "code",
   "execution_count": 50,
   "id": "d2985b78",
   "metadata": {
    "scrolled": true
   },
   "outputs": [
    {
     "data": {
      "text/plain": [
       "1     309\n",
       "2      17\n",
       "4       2\n",
       "3       2\n",
       "52      1\n",
       "10      1\n",
       "Name: number_of_actions, dtype: int64"
      ]
     },
     "execution_count": 50,
     "metadata": {},
     "output_type": "execute_result"
    }
   ],
   "source": [
    "# Распределение клиентов по ключевому действию\n",
    "Result_df.number_of_actions.value_counts()"
   ]
  },
  {
   "cell_type": "markdown",
   "id": "12c480c5",
   "metadata": {},
   "source": [
    "Клиент с наибольшим числом ключевых действий:"
   ]
  },
  {
   "cell_type": "code",
   "execution_count": 51,
   "id": "7247e10d",
   "metadata": {},
   "outputs": [],
   "source": [
    "Max_client = Result_df.loc[Result_df.number_of_actions.idxmax()].client_id"
   ]
  },
  {
   "cell_type": "markdown",
   "id": "1af19228",
   "metadata": {},
   "source": [
    "Получили, что два клиента намного больше других совершили ключевое действие, посмотрим на исходный датафрейм с данными client id"
   ]
  },
  {
   "cell_type": "code",
   "execution_count": 52,
   "id": "a1b54ee8",
   "metadata": {},
   "outputs": [
    {
     "data": {
      "text/html": [
       "<div>\n",
       "<style scoped>\n",
       "    .dataframe tbody tr th:only-of-type {\n",
       "        vertical-align: middle;\n",
       "    }\n",
       "\n",
       "    .dataframe tbody tr th {\n",
       "        vertical-align: top;\n",
       "    }\n",
       "\n",
       "    .dataframe thead th {\n",
       "        text-align: right;\n",
       "    }\n",
       "</style>\n",
       "<table border=\"1\" class=\"dataframe\">\n",
       "  <thead>\n",
       "    <tr style=\"text-align: right;\">\n",
       "      <th></th>\n",
       "      <th>client_id</th>\n",
       "      <th>contract</th>\n",
       "      <th>start_date</th>\n",
       "      <th>end_date</th>\n",
       "      <th>safe</th>\n",
       "      <th>office</th>\n",
       "    </tr>\n",
       "  </thead>\n",
       "  <tbody>\n",
       "    <tr>\n",
       "      <th>39209</th>\n",
       "      <td>224247202274274262</td>\n",
       "      <td>9049-9779-000922045</td>\n",
       "      <td>2022-02-28</td>\n",
       "      <td>NaT</td>\n",
       "      <td>554</td>\n",
       "      <td>8888</td>\n",
       "    </tr>\n",
       "    <tr>\n",
       "      <th>39210</th>\n",
       "      <td>224247202274274262</td>\n",
       "      <td>9049-9779-000922042</td>\n",
       "      <td>2022-02-28</td>\n",
       "      <td>NaT</td>\n",
       "      <td>555</td>\n",
       "      <td>8888</td>\n",
       "    </tr>\n",
       "    <tr>\n",
       "      <th>39212</th>\n",
       "      <td>224247202274274262</td>\n",
       "      <td>9049-9779-000922045</td>\n",
       "      <td>2022-02-28</td>\n",
       "      <td>NaT</td>\n",
       "      <td>560</td>\n",
       "      <td>8888</td>\n",
       "    </tr>\n",
       "    <tr>\n",
       "      <th>39213</th>\n",
       "      <td>224247202274274262</td>\n",
       "      <td>9049-9779-000922052</td>\n",
       "      <td>2022-02-28</td>\n",
       "      <td>NaT</td>\n",
       "      <td>561</td>\n",
       "      <td>8888</td>\n",
       "    </tr>\n",
       "    <tr>\n",
       "      <th>39215</th>\n",
       "      <td>224247202274274262</td>\n",
       "      <td>9049-9779-000922055</td>\n",
       "      <td>2022-02-28</td>\n",
       "      <td>NaT</td>\n",
       "      <td>566</td>\n",
       "      <td>8888</td>\n",
       "    </tr>\n",
       "    <tr>\n",
       "      <th>39216</th>\n",
       "      <td>224247202274274262</td>\n",
       "      <td>9049-9779-000922052</td>\n",
       "      <td>2022-02-28</td>\n",
       "      <td>NaT</td>\n",
       "      <td>567</td>\n",
       "      <td>8888</td>\n",
       "    </tr>\n",
       "    <tr>\n",
       "      <th>39218</th>\n",
       "      <td>224247202274274262</td>\n",
       "      <td>9049-9779-000922059</td>\n",
       "      <td>2022-02-28</td>\n",
       "      <td>NaT</td>\n",
       "      <td>572</td>\n",
       "      <td>8888</td>\n",
       "    </tr>\n",
       "    <tr>\n",
       "      <th>39219</th>\n",
       "      <td>224247202274274262</td>\n",
       "      <td>9049-9779-000922074</td>\n",
       "      <td>2022-02-28</td>\n",
       "      <td>NaT</td>\n",
       "      <td>573</td>\n",
       "      <td>8888</td>\n",
       "    </tr>\n",
       "    <tr>\n",
       "      <th>39220</th>\n",
       "      <td>224247202274274262</td>\n",
       "      <td>9049-9779-000922092</td>\n",
       "      <td>2022-02-28</td>\n",
       "      <td>NaT</td>\n",
       "      <td>578</td>\n",
       "      <td>8888</td>\n",
       "    </tr>\n",
       "    <tr>\n",
       "      <th>39221</th>\n",
       "      <td>224247202274274262</td>\n",
       "      <td>9049-9779-000922095</td>\n",
       "      <td>2022-02-28</td>\n",
       "      <td>NaT</td>\n",
       "      <td>579</td>\n",
       "      <td>8888</td>\n",
       "    </tr>\n",
       "    <tr>\n",
       "      <th>39222</th>\n",
       "      <td>224247202274274262</td>\n",
       "      <td>9049-9779-000922094</td>\n",
       "      <td>2022-02-28</td>\n",
       "      <td>NaT</td>\n",
       "      <td>584</td>\n",
       "      <td>8888</td>\n",
       "    </tr>\n",
       "    <tr>\n",
       "      <th>39223</th>\n",
       "      <td>224247202274274262</td>\n",
       "      <td>9049-9779-000922202</td>\n",
       "      <td>2022-02-28</td>\n",
       "      <td>NaT</td>\n",
       "      <td>585</td>\n",
       "      <td>8888</td>\n",
       "    </tr>\n",
       "    <tr>\n",
       "      <th>39224</th>\n",
       "      <td>224247202274274262</td>\n",
       "      <td>9049-9779-000922207</td>\n",
       "      <td>2022-02-28</td>\n",
       "      <td>2022-02-28</td>\n",
       "      <td>590</td>\n",
       "      <td>8888</td>\n",
       "    </tr>\n",
       "    <tr>\n",
       "      <th>39225</th>\n",
       "      <td>224247202274274262</td>\n",
       "      <td>9049-9779-000922209</td>\n",
       "      <td>2022-02-28</td>\n",
       "      <td>2022-02-28</td>\n",
       "      <td>591</td>\n",
       "      <td>8888</td>\n",
       "    </tr>\n",
       "    <tr>\n",
       "      <th>39226</th>\n",
       "      <td>224247202274274262</td>\n",
       "      <td>9049-9779-000922224</td>\n",
       "      <td>2022-02-28</td>\n",
       "      <td>2022-02-28</td>\n",
       "      <td>596</td>\n",
       "      <td>8888</td>\n",
       "    </tr>\n",
       "    <tr>\n",
       "      <th>39227</th>\n",
       "      <td>224247202274274262</td>\n",
       "      <td>9049-9779-000922222</td>\n",
       "      <td>2022-02-28</td>\n",
       "      <td>2022-02-28</td>\n",
       "      <td>597</td>\n",
       "      <td>8888</td>\n",
       "    </tr>\n",
       "  </tbody>\n",
       "</table>\n",
       "</div>"
      ],
      "text/plain": [
       "                client_id             contract start_date   end_date  safe  \\\n",
       "39209  224247202274274262  9049-9779-000922045 2022-02-28        NaT   554   \n",
       "39210  224247202274274262  9049-9779-000922042 2022-02-28        NaT   555   \n",
       "39212  224247202274274262  9049-9779-000922045 2022-02-28        NaT   560   \n",
       "39213  224247202274274262  9049-9779-000922052 2022-02-28        NaT   561   \n",
       "39215  224247202274274262  9049-9779-000922055 2022-02-28        NaT   566   \n",
       "39216  224247202274274262  9049-9779-000922052 2022-02-28        NaT   567   \n",
       "39218  224247202274274262  9049-9779-000922059 2022-02-28        NaT   572   \n",
       "39219  224247202274274262  9049-9779-000922074 2022-02-28        NaT   573   \n",
       "39220  224247202274274262  9049-9779-000922092 2022-02-28        NaT   578   \n",
       "39221  224247202274274262  9049-9779-000922095 2022-02-28        NaT   579   \n",
       "39222  224247202274274262  9049-9779-000922094 2022-02-28        NaT   584   \n",
       "39223  224247202274274262  9049-9779-000922202 2022-02-28        NaT   585   \n",
       "39224  224247202274274262  9049-9779-000922207 2022-02-28 2022-02-28   590   \n",
       "39225  224247202274274262  9049-9779-000922209 2022-02-28 2022-02-28   591   \n",
       "39226  224247202274274262  9049-9779-000922224 2022-02-28 2022-02-28   596   \n",
       "39227  224247202274274262  9049-9779-000922222 2022-02-28 2022-02-28   597   \n",
       "\n",
       "       office  \n",
       "39209    8888  \n",
       "39210    8888  \n",
       "39212    8888  \n",
       "39213    8888  \n",
       "39215    8888  \n",
       "39216    8888  \n",
       "39218    8888  \n",
       "39219    8888  \n",
       "39220    8888  \n",
       "39221    8888  \n",
       "39222    8888  \n",
       "39223    8888  \n",
       "39224    8888  \n",
       "39225    8888  \n",
       "39226    8888  \n",
       "39227    8888  "
      ]
     },
     "execution_count": 52,
     "metadata": {},
     "output_type": "execute_result"
    }
   ],
   "source": [
    "df.query('client_id == @Max_client')"
   ]
  },
  {
   "cell_type": "markdown",
   "id": "cb4fc910",
   "metadata": {},
   "source": [
    "Так как клиент совершил в один день 14 открытий договора, 4 из которых закрыл тем же днем, при их сравнении в таблице происходит пересечение, т.е. каждый закрытый договор с каждым открытым в тот же день и в том же офисе\n",
    "\n",
    "То есть 4 * 13 = 52\n",
    "\n",
    "Требуемые в задании условия выполняются в данном случае, поэтому результатом можно считать данный датафрейм:"
   ]
  },
  {
   "cell_type": "code",
   "execution_count": 53,
   "id": "d87d43f1",
   "metadata": {
    "scrolled": true
   },
   "outputs": [
    {
     "data": {
      "text/html": [
       "<div>\n",
       "<style scoped>\n",
       "    .dataframe tbody tr th:only-of-type {\n",
       "        vertical-align: middle;\n",
       "    }\n",
       "\n",
       "    .dataframe tbody tr th {\n",
       "        vertical-align: top;\n",
       "    }\n",
       "\n",
       "    .dataframe thead th {\n",
       "        text-align: right;\n",
       "    }\n",
       "</style>\n",
       "<table border=\"1\" class=\"dataframe\">\n",
       "  <thead>\n",
       "    <tr style=\"text-align: right;\">\n",
       "      <th></th>\n",
       "      <th>client_id</th>\n",
       "      <th>number_of_actions</th>\n",
       "    </tr>\n",
       "  </thead>\n",
       "  <tbody>\n",
       "    <tr>\n",
       "      <th>0</th>\n",
       "      <td>224247202274274262</td>\n",
       "      <td>52</td>\n",
       "    </tr>\n",
       "    <tr>\n",
       "      <th>1</th>\n",
       "      <td>2240224227944820994</td>\n",
       "      <td>10</td>\n",
       "    </tr>\n",
       "    <tr>\n",
       "      <th>2</th>\n",
       "      <td>2240226498729726664</td>\n",
       "      <td>4</td>\n",
       "    </tr>\n",
       "    <tr>\n",
       "      <th>3</th>\n",
       "      <td>224026268462298777</td>\n",
       "      <td>4</td>\n",
       "    </tr>\n",
       "    <tr>\n",
       "      <th>4</th>\n",
       "      <td>2240272076889247040</td>\n",
       "      <td>3</td>\n",
       "    </tr>\n",
       "    <tr>\n",
       "      <th>...</th>\n",
       "      <td>...</td>\n",
       "      <td>...</td>\n",
       "    </tr>\n",
       "    <tr>\n",
       "      <th>327</th>\n",
       "      <td>2229424707722694060</td>\n",
       "      <td>1</td>\n",
       "    </tr>\n",
       "    <tr>\n",
       "      <th>328</th>\n",
       "      <td>2229424224904777942</td>\n",
       "      <td>1</td>\n",
       "    </tr>\n",
       "    <tr>\n",
       "      <th>329</th>\n",
       "      <td>2229406648448474649</td>\n",
       "      <td>1</td>\n",
       "    </tr>\n",
       "    <tr>\n",
       "      <th>330</th>\n",
       "      <td>2229044486222622494</td>\n",
       "      <td>1</td>\n",
       "    </tr>\n",
       "    <tr>\n",
       "      <th>331</th>\n",
       "      <td>2784427462874478474</td>\n",
       "      <td>1</td>\n",
       "    </tr>\n",
       "  </tbody>\n",
       "</table>\n",
       "<p>332 rows × 2 columns</p>\n",
       "</div>"
      ],
      "text/plain": [
       "               client_id  number_of_actions\n",
       "0     224247202274274262                 52\n",
       "1    2240224227944820994                 10\n",
       "2    2240226498729726664                  4\n",
       "3     224026268462298777                  4\n",
       "4    2240272076889247040                  3\n",
       "..                   ...                ...\n",
       "327  2229424707722694060                  1\n",
       "328  2229424224904777942                  1\n",
       "329  2229406648448474649                  1\n",
       "330  2229044486222622494                  1\n",
       "331  2784427462874478474                  1\n",
       "\n",
       "[332 rows x 2 columns]"
      ]
     },
     "execution_count": 53,
     "metadata": {},
     "output_type": "execute_result"
    }
   ],
   "source": [
    "Result_df"
   ]
  },
  {
   "cell_type": "markdown",
   "id": "e4a511f5",
   "metadata": {},
   "source": [
    "## Однако, если принять допущение, что заключенные в один день договора и закрытые также в один день считать за одно событие, то получим:"
   ]
  },
  {
   "cell_type": "code",
   "execution_count": 54,
   "id": "1dce8cdc",
   "metadata": {},
   "outputs": [],
   "source": [
    "without_duplicates = df.drop_duplicates(subset=['client_id', 'start_date', 'end_date'])"
   ]
  },
  {
   "cell_type": "code",
   "execution_count": 55,
   "id": "f31c37aa",
   "metadata": {},
   "outputs": [
    {
     "data": {
      "text/html": [
       "<div>\n",
       "<style scoped>\n",
       "    .dataframe tbody tr th:only-of-type {\n",
       "        vertical-align: middle;\n",
       "    }\n",
       "\n",
       "    .dataframe tbody tr th {\n",
       "        vertical-align: top;\n",
       "    }\n",
       "\n",
       "    .dataframe thead th {\n",
       "        text-align: right;\n",
       "    }\n",
       "</style>\n",
       "<table border=\"1\" class=\"dataframe\">\n",
       "  <thead>\n",
       "    <tr style=\"text-align: right;\">\n",
       "      <th></th>\n",
       "      <th>client_id</th>\n",
       "      <th>contract</th>\n",
       "      <th>start_date</th>\n",
       "      <th>end_date</th>\n",
       "      <th>safe</th>\n",
       "      <th>office</th>\n",
       "    </tr>\n",
       "  </thead>\n",
       "  <tbody>\n",
       "    <tr>\n",
       "      <th>39209</th>\n",
       "      <td>224247202274274262</td>\n",
       "      <td>9049-9779-000922045</td>\n",
       "      <td>2022-02-28</td>\n",
       "      <td>NaT</td>\n",
       "      <td>554</td>\n",
       "      <td>8888</td>\n",
       "    </tr>\n",
       "    <tr>\n",
       "      <th>39224</th>\n",
       "      <td>224247202274274262</td>\n",
       "      <td>9049-9779-000922207</td>\n",
       "      <td>2022-02-28</td>\n",
       "      <td>2022-02-28</td>\n",
       "      <td>590</td>\n",
       "      <td>8888</td>\n",
       "    </tr>\n",
       "  </tbody>\n",
       "</table>\n",
       "</div>"
      ],
      "text/plain": [
       "                client_id             contract start_date   end_date  safe  \\\n",
       "39209  224247202274274262  9049-9779-000922045 2022-02-28        NaT   554   \n",
       "39224  224247202274274262  9049-9779-000922207 2022-02-28 2022-02-28   590   \n",
       "\n",
       "       office  \n",
       "39209    8888  \n",
       "39224    8888  "
      ]
     },
     "execution_count": 55,
     "metadata": {},
     "output_type": "execute_result"
    }
   ],
   "source": [
    "without_duplicates.query('client_id == @Max_client')"
   ]
  },
  {
   "cell_type": "markdown",
   "id": "adbe416e",
   "metadata": {},
   "source": [
    "14 строк для клиента с 52 ключевыми действиями теперь дает только 2, далее выполняем те же действия, что и ранее:"
   ]
  },
  {
   "cell_type": "code",
   "execution_count": 56,
   "id": "aad58193",
   "metadata": {},
   "outputs": [],
   "source": [
    "# датафрейм с id клиента с номером договора, началом его действия, сейфом и офисом\n",
    "df_3 = without_duplicates[['client_id', 'start_date', 'contract', 'safe', 'office']].rename(columns={'contract': 'new_contract', 'safe': 'new_safe', 'office': 'new_office'})\n",
    "# датафрейм с id клиента, номером договора, временем его закрытием, сейфом и офисом\n",
    "df_4 = without_duplicates[['client_id', 'end_date', 'contract', 'safe', 'office']].rename(columns={'contract' : 'ended_contract', 'safe': 'old_safe', 'office': 'old_office'})\n",
    "# Объединяем датафреймы по полям id клиента и времени окончания и начала договоров, а также столбцу офис\n",
    "clean_df = df_4.merge(df_3, how='inner', left_on=['client_id', 'end_date', 'old_office'], right_on=['client_id', 'start_date', 'new_office'])"
   ]
  },
  {
   "cell_type": "code",
   "execution_count": 57,
   "id": "42b5905a",
   "metadata": {},
   "outputs": [],
   "source": [
    "# Убираем договора, которые пересеклись сами с собой, а также у которых не изменилась ячейка\n",
    "clean_df = clean_df.query('new_contract != ended_contract and old_safe != new_safe')"
   ]
  },
  {
   "cell_type": "code",
   "execution_count": 58,
   "id": "dc08f8a5",
   "metadata": {
    "scrolled": true
   },
   "outputs": [
    {
     "data": {
      "text/html": [
       "<div>\n",
       "<style scoped>\n",
       "    .dataframe tbody tr th:only-of-type {\n",
       "        vertical-align: middle;\n",
       "    }\n",
       "\n",
       "    .dataframe tbody tr th {\n",
       "        vertical-align: top;\n",
       "    }\n",
       "\n",
       "    .dataframe thead th {\n",
       "        text-align: right;\n",
       "    }\n",
       "</style>\n",
       "<table border=\"1\" class=\"dataframe\">\n",
       "  <thead>\n",
       "    <tr style=\"text-align: right;\">\n",
       "      <th></th>\n",
       "      <th>client_id</th>\n",
       "      <th>number_of_actions</th>\n",
       "    </tr>\n",
       "  </thead>\n",
       "  <tbody>\n",
       "    <tr>\n",
       "      <th>0</th>\n",
       "      <td>2240272076889247040</td>\n",
       "      <td>3</td>\n",
       "    </tr>\n",
       "    <tr>\n",
       "      <th>1</th>\n",
       "      <td>2242464644444477780</td>\n",
       "      <td>3</td>\n",
       "    </tr>\n",
       "    <tr>\n",
       "      <th>2</th>\n",
       "      <td>2240799777744442226</td>\n",
       "      <td>2</td>\n",
       "    </tr>\n",
       "    <tr>\n",
       "      <th>3</th>\n",
       "      <td>2240497722677927672</td>\n",
       "      <td>2</td>\n",
       "    </tr>\n",
       "    <tr>\n",
       "      <th>4</th>\n",
       "      <td>2240224227944820994</td>\n",
       "      <td>2</td>\n",
       "    </tr>\n",
       "    <tr>\n",
       "      <th>...</th>\n",
       "      <td>...</td>\n",
       "      <td>...</td>\n",
       "    </tr>\n",
       "    <tr>\n",
       "      <th>325</th>\n",
       "      <td>2229406648448474649</td>\n",
       "      <td>1</td>\n",
       "    </tr>\n",
       "    <tr>\n",
       "      <th>326</th>\n",
       "      <td>2229044486222622494</td>\n",
       "      <td>1</td>\n",
       "    </tr>\n",
       "    <tr>\n",
       "      <th>327</th>\n",
       "      <td>2229029678908270292</td>\n",
       "      <td>1</td>\n",
       "    </tr>\n",
       "    <tr>\n",
       "      <th>328</th>\n",
       "      <td>2229028720904280804</td>\n",
       "      <td>1</td>\n",
       "    </tr>\n",
       "    <tr>\n",
       "      <th>329</th>\n",
       "      <td>2784427462874478474</td>\n",
       "      <td>1</td>\n",
       "    </tr>\n",
       "  </tbody>\n",
       "</table>\n",
       "<p>330 rows × 2 columns</p>\n",
       "</div>"
      ],
      "text/plain": [
       "               client_id  number_of_actions\n",
       "0    2240272076889247040                  3\n",
       "1    2242464644444477780                  3\n",
       "2    2240799777744442226                  2\n",
       "3    2240497722677927672                  2\n",
       "4    2240224227944820994                  2\n",
       "..                   ...                ...\n",
       "325  2229406648448474649                  1\n",
       "326  2229044486222622494                  1\n",
       "327  2229029678908270292                  1\n",
       "328  2229028720904280804                  1\n",
       "329  2784427462874478474                  1\n",
       "\n",
       "[330 rows x 2 columns]"
      ]
     },
     "execution_count": 58,
     "metadata": {},
     "output_type": "execute_result"
    }
   ],
   "source": [
    "# выполняем группировку по id клиента, считаем число строк и сортируем фрейм по убыванию\n",
    "Without_duplicates_df = (clean_df.groupby('client_id', as_index=False)\n",
    "                             .agg({'new_contract': 'count'}).rename(columns={'new_contract': 'number_of_actions'})\n",
    "                             .sort_values('number_of_actions', ascending=False).reset_index(drop=True))\n",
    "\n",
    "Without_duplicates_df"
   ]
  },
  {
   "cell_type": "code",
   "execution_count": 59,
   "id": "0473ba71",
   "metadata": {},
   "outputs": [
    {
     "data": {
      "text/plain": [
       "1    320\n",
       "2      8\n",
       "3      2\n",
       "Name: number_of_actions, dtype: int64"
      ]
     },
     "execution_count": 59,
     "metadata": {},
     "output_type": "execute_result"
    }
   ],
   "source": [
    "Without_duplicates_df.number_of_actions.value_counts()"
   ]
  },
  {
   "cell_type": "code",
   "execution_count": 60,
   "id": "fe531667",
   "metadata": {},
   "outputs": [
    {
     "data": {
      "text/plain": [
       "342"
      ]
     },
     "execution_count": 60,
     "metadata": {},
     "output_type": "execute_result"
    }
   ],
   "source": [
    "clean_df.shape[0]"
   ]
  },
  {
   "cell_type": "code",
   "execution_count": 61,
   "id": "7574d73a",
   "metadata": {},
   "outputs": [
    {
     "data": {
      "text/html": [
       "<div>\n",
       "<style scoped>\n",
       "    .dataframe tbody tr th:only-of-type {\n",
       "        vertical-align: middle;\n",
       "    }\n",
       "\n",
       "    .dataframe tbody tr th {\n",
       "        vertical-align: top;\n",
       "    }\n",
       "\n",
       "    .dataframe thead th {\n",
       "        text-align: right;\n",
       "    }\n",
       "</style>\n",
       "<table border=\"1\" class=\"dataframe\">\n",
       "  <thead>\n",
       "    <tr style=\"text-align: right;\">\n",
       "      <th></th>\n",
       "      <th>client_id</th>\n",
       "      <th>end_date</th>\n",
       "      <th>ended_contract</th>\n",
       "      <th>old_safe</th>\n",
       "      <th>old_office</th>\n",
       "      <th>start_date</th>\n",
       "      <th>new_contract</th>\n",
       "      <th>new_safe</th>\n",
       "      <th>new_office</th>\n",
       "    </tr>\n",
       "  </thead>\n",
       "  <tbody>\n",
       "    <tr>\n",
       "      <th>460</th>\n",
       "      <td>224247202274274262</td>\n",
       "      <td>2022-02-28</td>\n",
       "      <td>9049-9779-000922207</td>\n",
       "      <td>590</td>\n",
       "      <td>8888</td>\n",
       "      <td>2022-02-28</td>\n",
       "      <td>9049-9779-000922045</td>\n",
       "      <td>554</td>\n",
       "      <td>8888</td>\n",
       "    </tr>\n",
       "  </tbody>\n",
       "</table>\n",
       "</div>"
      ],
      "text/plain": [
       "              client_id   end_date       ended_contract  old_safe  old_office  \\\n",
       "460  224247202274274262 2022-02-28  9049-9779-000922207       590        8888   \n",
       "\n",
       "    start_date         new_contract  new_safe  new_office  \n",
       "460 2022-02-28  9049-9779-000922045       554        8888  "
      ]
     },
     "execution_count": 61,
     "metadata": {},
     "output_type": "execute_result"
    }
   ],
   "source": [
    "# Клиент, у которого было заключено 14 договоров в один день, теперь имеет только одно ключевое действие\n",
    "clean_df.query('client_id == @Max_client')"
   ]
  },
  {
   "cell_type": "markdown",
   "id": "7991822c",
   "metadata": {},
   "source": [
    "### Таким образом, в качестве ответа на второй вопрос о ключевых действиях в разбивке по каждому пользователю даю два решения:\n",
    "### 1) Соответствующий условиям задания\n",
    "### 2) Также соответствующий условиям задания, но с оговоркой, что заключенные в 1 день договора у одного клиента и закрытые также в 1 день, считать одним событием.\n",
    "### Какой из двух итоговых датафреймов использовать, зависит от того, на какие вопросы необходимо ответить в дальнейшем, например, если необходимо посмотреть, сколько операций за один день совершил клиент с учетом текущих условий, то используем 1-ый, если требуется ответить на вопрос о распределении ключевого действия между всеми клиентами, то второй, так как он исключает выбросы, связанные с однотипными операциями в день"
   ]
  },
  {
   "cell_type": "code",
   "execution_count": 62,
   "id": "0a16eb38",
   "metadata": {},
   "outputs": [
    {
     "data": {
      "text/html": [
       "<div>\n",
       "<style scoped>\n",
       "    .dataframe tbody tr th:only-of-type {\n",
       "        vertical-align: middle;\n",
       "    }\n",
       "\n",
       "    .dataframe tbody tr th {\n",
       "        vertical-align: top;\n",
       "    }\n",
       "\n",
       "    .dataframe thead th {\n",
       "        text-align: right;\n",
       "    }\n",
       "</style>\n",
       "<table border=\"1\" class=\"dataframe\">\n",
       "  <thead>\n",
       "    <tr style=\"text-align: right;\">\n",
       "      <th></th>\n",
       "      <th>client_id</th>\n",
       "      <th>number_of_actions</th>\n",
       "    </tr>\n",
       "  </thead>\n",
       "  <tbody>\n",
       "    <tr>\n",
       "      <th>0</th>\n",
       "      <td>224247202274274262</td>\n",
       "      <td>52</td>\n",
       "    </tr>\n",
       "    <tr>\n",
       "      <th>1</th>\n",
       "      <td>2240224227944820994</td>\n",
       "      <td>10</td>\n",
       "    </tr>\n",
       "    <tr>\n",
       "      <th>2</th>\n",
       "      <td>2240226498729726664</td>\n",
       "      <td>4</td>\n",
       "    </tr>\n",
       "    <tr>\n",
       "      <th>3</th>\n",
       "      <td>224026268462298777</td>\n",
       "      <td>4</td>\n",
       "    </tr>\n",
       "    <tr>\n",
       "      <th>4</th>\n",
       "      <td>2240272076889247040</td>\n",
       "      <td>3</td>\n",
       "    </tr>\n",
       "    <tr>\n",
       "      <th>...</th>\n",
       "      <td>...</td>\n",
       "      <td>...</td>\n",
       "    </tr>\n",
       "    <tr>\n",
       "      <th>327</th>\n",
       "      <td>2229424707722694060</td>\n",
       "      <td>1</td>\n",
       "    </tr>\n",
       "    <tr>\n",
       "      <th>328</th>\n",
       "      <td>2229424224904777942</td>\n",
       "      <td>1</td>\n",
       "    </tr>\n",
       "    <tr>\n",
       "      <th>329</th>\n",
       "      <td>2229406648448474649</td>\n",
       "      <td>1</td>\n",
       "    </tr>\n",
       "    <tr>\n",
       "      <th>330</th>\n",
       "      <td>2229044486222622494</td>\n",
       "      <td>1</td>\n",
       "    </tr>\n",
       "    <tr>\n",
       "      <th>331</th>\n",
       "      <td>2784427462874478474</td>\n",
       "      <td>1</td>\n",
       "    </tr>\n",
       "  </tbody>\n",
       "</table>\n",
       "<p>332 rows × 2 columns</p>\n",
       "</div>"
      ],
      "text/plain": [
       "               client_id  number_of_actions\n",
       "0     224247202274274262                 52\n",
       "1    2240224227944820994                 10\n",
       "2    2240226498729726664                  4\n",
       "3     224026268462298777                  4\n",
       "4    2240272076889247040                  3\n",
       "..                   ...                ...\n",
       "327  2229424707722694060                  1\n",
       "328  2229424224904777942                  1\n",
       "329  2229406648448474649                  1\n",
       "330  2229044486222622494                  1\n",
       "331  2784427462874478474                  1\n",
       "\n",
       "[332 rows x 2 columns]"
      ]
     },
     "execution_count": 62,
     "metadata": {},
     "output_type": "execute_result"
    }
   ],
   "source": [
    "# согласно условий задания\n",
    "Result_df"
   ]
  },
  {
   "cell_type": "code",
   "execution_count": 63,
   "id": "d4517431",
   "metadata": {},
   "outputs": [
    {
     "data": {
      "text/html": [
       "<div>\n",
       "<style scoped>\n",
       "    .dataframe tbody tr th:only-of-type {\n",
       "        vertical-align: middle;\n",
       "    }\n",
       "\n",
       "    .dataframe tbody tr th {\n",
       "        vertical-align: top;\n",
       "    }\n",
       "\n",
       "    .dataframe thead th {\n",
       "        text-align: right;\n",
       "    }\n",
       "</style>\n",
       "<table border=\"1\" class=\"dataframe\">\n",
       "  <thead>\n",
       "    <tr style=\"text-align: right;\">\n",
       "      <th></th>\n",
       "      <th>client_id</th>\n",
       "      <th>number_of_actions</th>\n",
       "    </tr>\n",
       "  </thead>\n",
       "  <tbody>\n",
       "    <tr>\n",
       "      <th>0</th>\n",
       "      <td>2240272076889247040</td>\n",
       "      <td>3</td>\n",
       "    </tr>\n",
       "    <tr>\n",
       "      <th>1</th>\n",
       "      <td>2242464644444477780</td>\n",
       "      <td>3</td>\n",
       "    </tr>\n",
       "    <tr>\n",
       "      <th>2</th>\n",
       "      <td>2240799777744442226</td>\n",
       "      <td>2</td>\n",
       "    </tr>\n",
       "    <tr>\n",
       "      <th>3</th>\n",
       "      <td>2240497722677927672</td>\n",
       "      <td>2</td>\n",
       "    </tr>\n",
       "    <tr>\n",
       "      <th>4</th>\n",
       "      <td>2240224227944820994</td>\n",
       "      <td>2</td>\n",
       "    </tr>\n",
       "    <tr>\n",
       "      <th>...</th>\n",
       "      <td>...</td>\n",
       "      <td>...</td>\n",
       "    </tr>\n",
       "    <tr>\n",
       "      <th>325</th>\n",
       "      <td>2229406648448474649</td>\n",
       "      <td>1</td>\n",
       "    </tr>\n",
       "    <tr>\n",
       "      <th>326</th>\n",
       "      <td>2229044486222622494</td>\n",
       "      <td>1</td>\n",
       "    </tr>\n",
       "    <tr>\n",
       "      <th>327</th>\n",
       "      <td>2229029678908270292</td>\n",
       "      <td>1</td>\n",
       "    </tr>\n",
       "    <tr>\n",
       "      <th>328</th>\n",
       "      <td>2229028720904280804</td>\n",
       "      <td>1</td>\n",
       "    </tr>\n",
       "    <tr>\n",
       "      <th>329</th>\n",
       "      <td>2784427462874478474</td>\n",
       "      <td>1</td>\n",
       "    </tr>\n",
       "  </tbody>\n",
       "</table>\n",
       "<p>330 rows × 2 columns</p>\n",
       "</div>"
      ],
      "text/plain": [
       "               client_id  number_of_actions\n",
       "0    2240272076889247040                  3\n",
       "1    2242464644444477780                  3\n",
       "2    2240799777744442226                  2\n",
       "3    2240497722677927672                  2\n",
       "4    2240224227944820994                  2\n",
       "..                   ...                ...\n",
       "325  2229406648448474649                  1\n",
       "326  2229044486222622494                  1\n",
       "327  2229029678908270292                  1\n",
       "328  2229028720904280804                  1\n",
       "329  2784427462874478474                  1\n",
       "\n",
       "[330 rows x 2 columns]"
      ]
     },
     "execution_count": 63,
     "metadata": {},
     "output_type": "execute_result"
    }
   ],
   "source": [
    "# с принятым допущением\n",
    "Without_duplicates_df"
   ]
  }
 ],
 "metadata": {
  "kernelspec": {
   "display_name": "Python 3 (ipykernel)",
   "language": "python",
   "name": "python3"
  },
  "language_info": {
   "codemirror_mode": {
    "name": "ipython",
    "version": 3
   },
   "file_extension": ".py",
   "mimetype": "text/x-python",
   "name": "python",
   "nbconvert_exporter": "python",
   "pygments_lexer": "ipython3",
   "version": "3.9.13"
  }
 },
 "nbformat": 4,
 "nbformat_minor": 5
}
